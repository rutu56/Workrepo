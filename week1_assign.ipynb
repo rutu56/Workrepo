{
  "nbformat": 4,
  "nbformat_minor": 0,
  "metadata": {
    "colab": {
      "name": "week1 assign.ipynb",
      "provenance": [],
      "collapsed_sections": [],
      "authorship_tag": "ABX9TyOsMMRmYzzzoKqGHiN4oHAG",
      "include_colab_link": true
    },
    "kernelspec": {
      "name": "python3",
      "display_name": "Python 3"
    },
    "language_info": {
      "name": "python"
    }
  },
  "cells": [
    {
      "cell_type": "markdown",
      "metadata": {
        "id": "view-in-github",
        "colab_type": "text"
      },
      "source": [
        "<a href=\"https://colab.research.google.com/github/rutu56/Workrepo/blob/main/week1_assign.ipynb\" target=\"_parent\"><img src=\"https://colab.research.google.com/assets/colab-badge.svg\" alt=\"Open In Colab\"/></a>"
      ]
    },
    {
      "cell_type": "markdown",
      "source": [
        "Task 1\n",
        "Given an integer,n , perform the following conditional actions:\n",
        "\n",
        "If n is odd, print Weird\n",
        "If n is even and in the inclusive range of 2 to 5, print Not Weird\n",
        "If n is even and in the inclusive range of 6 to 20, print Weird\n",
        "If n is even and greater than 20 , print Not Weird"
      ],
      "metadata": {
        "id": "7346cBHUTSkU"
      }
    },
    {
      "cell_type": "code",
      "source": [
        "import math\n",
        "import os\n",
        "import random\n",
        "import re\n",
        "import sys\n",
        "\n",
        "if __name__ == '__main__':\n",
        "    n = int(input().strip())"
      ],
      "metadata": {
        "id": "_K1Ke3GqUflZ"
      },
      "execution_count": null,
      "outputs": []
    },
    {
      "cell_type": "markdown",
      "source": [
        "Task 2\n",
        "The provided code stub reads two integers from STDIN,  and . Add code to print three lines where:\n",
        "\n",
        "The first line contains the sum of the two numbers.\n",
        "The second line contains the difference of the two numbers (first - second).\n",
        "The third line contains the product of the two numbers."
      ],
      "metadata": {
        "id": "c1IcY74iUrxq"
      }
    },
    {
      "cell_type": "code",
      "source": [
        "if __name__ == '__main__':\n",
        "    a = int(input())\n",
        "    b = int(input())\n",
        "    print(a+b)\n",
        "    print(a-b)\n",
        "    print(a*b)"
      ],
      "metadata": {
        "id": "AEP7di4sU0ij"
      },
      "execution_count": null,
      "outputs": []
    },
    {
      "cell_type": "markdown",
      "source": [
        "Task 3\n",
        "The provided code stub reads two integers, a and **b** , from STDIN.\n",
        "Add logic to print two lines. The first line should contain the result of integer division, a // b . The second line should contain the result of float division, a / b.\n",
        "No rounding or formatting is necessary."
      ],
      "metadata": {
        "id": "kNajUrA5VsR0"
      }
    },
    {
      "cell_type": "code",
      "source": [
        "if __name__ == '__main__':\n",
        "    a = int(input())\n",
        "    b = int(input())\n",
        "    print(a//b)\n",
        "    print(a/b)"
      ],
      "metadata": {
        "id": "5maRu7EfWWkr"
      },
      "execution_count": null,
      "outputs": []
    },
    {
      "cell_type": "markdown",
      "source": [
        "Task 4\n",
        "The provided code stub reads and integer,n , from STDIN. For all non-negative integers i<n ,print i^2 ."
      ],
      "metadata": {
        "id": "eTWyLQo-W-iL"
      }
    },
    {
      "cell_type": "code",
      "source": [
        "if __name__ == '__main__':\n",
        "    n = int(input())\n",
        "    for i in range(0,n):\n",
        "        print(i*i)"
      ],
      "metadata": {
        "id": "ggpcJjxHX6Qu"
      },
      "execution_count": null,
      "outputs": []
    },
    {
      "cell_type": "markdown",
      "source": [
        "Task 5\n",
        " You are given three integers x,y and z representing the dimensions of a cuboid along with an integer n . Print a list of all possible coordinates given by (i,j,k) on a 3D grid where the sum of i+j+k  is not equal to n . Here, 0<=i<=x;0<=j<=y;0<=k<=z . Please use list comprehensions rather than multiple loops, as a learning exercise."
      ],
      "metadata": {
        "id": "YdHWnLx4YAq-"
      }
    },
    {
      "cell_type": "code",
      "source": [
        "if __name__ == '__main__':\n",
        "    x = int(input())\n",
        "    y = int(input())\n",
        "    z = int(input())\n",
        "    n = int(input())\n",
        "    l=list()\n",
        "    for i in range(x+1):\n",
        "        for j in range(y+1):\n",
        "            for k in range(z+1):\n",
        "                if(i+j+k!=n):\n",
        "                    l.append([i,j,k])\n",
        "    print(l) "
      ],
      "metadata": {
        "id": "KJBKDHFQZpoC"
      },
      "execution_count": null,
      "outputs": []
    },
    {
      "cell_type": "markdown",
      "source": [
        "Task 6\n",
        "Given the participants' score sheet for your University Sports Day, you are required to find the runner-up score. You are given n scores. Store them in a list and find the score of the runner-up."
      ],
      "metadata": {
        "id": "Fo2kN-iWZ0Dm"
      }
    },
    {
      "cell_type": "code",
      "source": [
        "if __name__ == '__main__':\n",
        "    n = int(input())\n",
        "    arr = map(int, input().split())\n",
        "    l1=list(arr)\n",
        "    \n",
        "    l1.sort()\n",
        "    highest_no=max(l1)\n",
        "    \n",
        "    for i in range(len(l1)-1,-1,-1):\n",
        "        if l1[i]  < highest_no:\n",
        "            break\n",
        "            \n",
        "print(l1[i]) "
      ],
      "metadata": {
        "id": "IGc8XyHYb-1F"
      },
      "execution_count": null,
      "outputs": []
    },
    {
      "cell_type": "markdown",
      "source": [
        "Task 7\n",
        "Given the names and grades for each student in a class of n  students, store them in a nested list and print the name(s) of any student(s) having the second lowest grade.\n",
        "\n",
        "Note: If there are multiple students with the second lowest grade, order their names alphabetically and print each name on a new line."
      ],
      "metadata": {
        "id": "Hu_sZzJScCG3"
      }
    },
    {
      "cell_type": "code",
      "source": [
        "if __name__ == '__main__':\n",
        "    dic={}\n",
        "    l1=list()\n",
        "    for _ in range(int(input())):\n",
        "        name = input()\n",
        "        score = float(input())\n",
        "        if score in dic:\n",
        "            dic[score].append(name)\n",
        "        else:\n",
        "            dic[score]=[name]\n",
        "        if score not in l1:\n",
        "            l1.append(score)\n",
        "            \n",
        "m=min(l1)\n",
        "l1.remove(m)\n",
        "m1=min(l1)\n",
        "dic[m1].sort()\n",
        "for i in dic[m1]:\n",
        "    print(i)\n"
      ],
      "metadata": {
        "id": "sLDcD-GNfcdH"
      },
      "execution_count": null,
      "outputs": []
    },
    {
      "cell_type": "markdown",
      "source": [
        "Task 8\n",
        "Given an integer,n , and n space-separated integers as input, create a tuple,t , of those n integers. Then compute and print the result of hash(t) ."
      ],
      "metadata": {
        "id": "cB80wTsxfg0z"
      }
    },
    {
      "cell_type": "code",
      "source": [
        "if __name__ == '__main__':\n",
        "    n = int(input())\n",
        "    integer_list = tuple(map(int, input().split()))\n",
        "    print(hash(integer_list))"
      ],
      "metadata": {
        "id": "1IDxC6Z0ga5j"
      },
      "execution_count": null,
      "outputs": []
    },
    {
      "cell_type": "markdown",
      "source": [
        "Task 9 The provided code stub will read in a dictionary containing key/value pairs of name:[marks] for a list of students. Print the average of the marks array for the student name provided, showing 2 places after the decimal."
      ],
      "metadata": {
        "id": "KJPPUQsegenX"
      }
    },
    {
      "cell_type": "code",
      "source": [
        "if __name__ == '__main__':\n",
        "    n = int(input())\n",
        "    student_marks = {}\n",
        "    for _ in range(n):\n",
        "        name, *line = input().split()\n",
        "        scores = list(map(float, line))\n",
        "        student_marks[name] = scores\n",
        "    query_name = input()\n",
        "    s=0\n",
        "    \n",
        "    for i in student_marks[query_name]:\n",
        "        s=s+i\n",
        "    print(\"{0:.2f}\".format(s/3))"
      ],
      "metadata": {
        "id": "7DFNV3MPmCRB"
      },
      "execution_count": null,
      "outputs": []
    },
    {
      "cell_type": "markdown",
      "source": [
        "Task 10 Read a given string, change the character at a given index and then print the modified string."
      ],
      "metadata": {
        "id": "LlYFhsbcmFaq"
      }
    },
    {
      "cell_type": "code",
      "source": [
        "def mutate_string(string, position, character):\n",
        "    return string[:position]+character+string[position+1:]\n",
        "\n",
        "if __name__ == '__main__':\n",
        "    s = input()\n",
        "    i, c = input().split()\n",
        "    s_new = mutate_string(s, int(i), c)\n",
        "    print(s_new)"
      ],
      "metadata": {
        "id": "kNe_DJjsmuo-"
      },
      "execution_count": null,
      "outputs": []
    },
    {
      "cell_type": "markdown",
      "source": [
        "Task 11 (SWAP CASE)\n",
        "You are given a string and your task is to swap cases. In other words, convert all lowercase letters to uppercase letters and vice versa."
      ],
      "metadata": {
        "id": "wpIEr1NB7J3p"
      }
    },
    {
      "cell_type": "code",
      "source": [
        "def change(c):\n",
        "    if str.islower(c):\n",
        "        return str.upper(c)\n",
        "    else:\n",
        "        return str.lower(c)\n",
        "    \n",
        "def swap_case(s):\n",
        "    return ''.join(map(change,s))\n",
        "\n",
        "if __name__ == '__main__':\n",
        "    s = input()\n",
        "    result = swap_case(s)\n",
        "    print(result)"
      ],
      "metadata": {
        "id": "z9cvMtcd8BGU"
      },
      "execution_count": null,
      "outputs": []
    },
    {
      "cell_type": "markdown",
      "source": [
        "Task 12 (STRING SPLIT AND JOIN)\n",
        "You are given a string. Split the string on a \" \" (space) delimiter and join using a - hyphen."
      ],
      "metadata": {
        "id": "hGF_heXDAUd3"
      }
    },
    {
      "cell_type": "code",
      "source": [
        "\n",
        "def split_and_join(line):\n",
        "    return '-'.join(line.split())\n",
        "\n",
        "if __name__ == '__main__':\n",
        "    line = input()\n",
        "    result = split_and_join(line)\n",
        "    print(result)"
      ],
      "metadata": {
        "id": "THJcHZIT9V5r"
      },
      "execution_count": null,
      "outputs": []
    },
    {
      "cell_type": "markdown",
      "source": [
        "Task 13 (FIND PERCENTAGE)\n",
        "The provided code stub will read in a dictionary containing key/value pairs of name:[marks] for a list of students. Print the average of the marks array for the student name provided, showing 2 places after the decimal."
      ],
      "metadata": {
        "id": "IfgQA4E89Z7V"
      }
    },
    {
      "cell_type": "code",
      "source": [
        "if __name__ == '__main__':\n",
        "    n = int(input())\n",
        "    student_marks = {}\n",
        "    for _ in range(n):\n",
        "        name, *line = input().split()\n",
        "        scores = list(map(float, line))\n",
        "        student_marks[name] = scores\n",
        "    query_name = input()\n",
        "    s=0\n",
        "    \n",
        "    for i in student_marks[query_name]:\n",
        "        s=s+i\n",
        "    print(\"{0:.2f}\".format(s/3))"
      ],
      "metadata": {
        "id": "TC735wql93iQ"
      },
      "execution_count": null,
      "outputs": []
    },
    {
      "cell_type": "markdown",
      "source": [
        "Task 14 (STRING VALIDATORS)\n",
        "You are given a  string S .\n",
        "Your task is to find out if the string S  contains: alphanumeric characters, alphabetical characters, digits, lowercase and uppercase characters."
      ],
      "metadata": {
        "id": "YHx947T899Iz"
      }
    },
    {
      "cell_type": "code",
      "source": [
        "if __name__ == '__main__':\n",
        "    s = input()\n",
        "    print(any([i.isalnum() for i in s]))\n",
        "    print(any([i.isalpha() for i in s]))\n",
        "    print(any([i.isdigit() for i in s]))\n",
        "    print(any([i.islower() for i in s]))\n",
        "    print(any([i.isupper() for i in s]))"
      ],
      "metadata": {
        "id": "2X-Px_zc_-IR"
      },
      "execution_count": null,
      "outputs": []
    },
    {
      "cell_type": "markdown",
      "source": [
        "Task 15 (TEXT ALLIGNMENT)\n",
        "You are given a partial code that is used for generating the HackerRank Logo of variable thickness.\n",
        "Your task is to replace the blank (______) with rjust, ljust or center."
      ],
      "metadata": {
        "id": "v2d6pPNhAvFE"
      }
    },
    {
      "cell_type": "code",
      "source": [
        "thickness = int(input())\n",
        "c = 'H'\n",
        "for i in range(thickness):\n",
        "    print((c*i).rjust(thickness-1)+c+(c*i).ljust(thickness-1))\n",
        "for i in range(thickness+1):   \n",
        "    print((c*thickness).center(thickness*2)+(c*thickness).center(thickness*6))\n",
        "for i in range((thickness+1)//2):     \n",
        "     print((c*thickness*5).center(thickness*6))\n",
        "for i in range(thickness+1):\n",
        "      print((c*thickness).center(thickness*2)+(c*thickness).center(thickness*6))   \n",
        "for i in range(thickness):  \n",
        "     print(((c*(thickness-i-1)).rjust(thickness)+c+(c*(thickness-i-1)).ljust(thickness)).rjust(thickness*6))  "
      ],
      "metadata": {
        "id": "vvdm67dZA1-z"
      },
      "execution_count": null,
      "outputs": []
    },
    {
      "cell_type": "markdown",
      "source": [
        "Task 16 (TEXT WRAP)\n",
        "You are given a string S and width w.\n",
        "Your task is to wrap the string into a paragraph of width w ."
      ],
      "metadata": {
        "id": "TM1TGUbJA9qJ"
      }
    },
    {
      "cell_type": "code",
      "source": [
        "import textwrap\n",
        "\n",
        "def wrap(string, max_width):\n",
        "    return textwrap.fill(string,max_width)\n",
        "\n",
        "if __name__ == '__main__':\n",
        "    string, max_width = input(), int(input())\n",
        "    result = wrap(string, max_width)\n",
        "    print(result)"
      ],
      "metadata": {
        "id": "qrnj7o9MBWRn"
      },
      "execution_count": null,
      "outputs": []
    },
    {
      "cell_type": "markdown",
      "source": [
        "Task 17 (ITERTOOLS)\n",
        "You are given a two lists A and B . Your task is to compute their cartesian product AXB."
      ],
      "metadata": {
        "id": "SNPoaqVHBeBw"
      }
    },
    {
      "cell_type": "code",
      "source": [
        "from itertools import product\n",
        "A=input().split()\n",
        "A=list(map(int,A))\n",
        "B=input().split()\n",
        "B=list(map(int,B))\n",
        "output=list(product(A,B))\n",
        "for i in output:\n",
        "    print(i,end=\" \");"
      ],
      "metadata": {
        "id": "x6mne4TvCeei"
      },
      "execution_count": null,
      "outputs": []
    },
    {
      "cell_type": "markdown",
      "source": [
        "Task 18 (ITERTOOLS.PERMUTATIONS())\n",
        "You are given a string S .\n",
        "Your task is to print all possible permutations of size k  of the string in lexicographic sorted order."
      ],
      "metadata": {
        "id": "OJF3ZGpjCgvH"
      }
    },
    {
      "cell_type": "code",
      "source": [
        "from itertools import permutations\n",
        "s,k=input().split()\n",
        "words=list(permutations(s,int(k)))\n",
        "words=sorted(words,reverse=False)\n",
        "for word in words:\n",
        "    print(*word,sep='')"
      ],
      "metadata": {
        "id": "7LA2I3vSC9uR"
      },
      "execution_count": null,
      "outputs": []
    },
    {
      "cell_type": "markdown",
      "source": [
        "Task 19 (COLLECTIONS.COUNTERS())\n",
        "Raghu is a shoe shop owner. His shop has X number of shoes.\n",
        "He has a list containing the size of each shoe he has in his shop.\n",
        "There are N number of customers who are willing to pay xi amount of money only if they get the shoe of their desired size.\n",
        "\n",
        "Your task is to compute how much money raghu earned.\n"
      ],
      "metadata": {
        "id": "Lc26ilC8DBUP"
      }
    },
    {
      "cell_type": "code",
      "source": [
        "# Enter your code here. Read input from STDIN. Print output to STDOUT\n",
        "from collections import Counter\n",
        "X=input()\n",
        "S=Counter(map(int,input().split()))\n",
        "n=input()\n",
        "N=int(n)\n",
        "earnings=0\n",
        "for customer in range(N):\n",
        "    size,x_i=map(int,input().split())\n",
        "    if size in S and S[size] > 0:\n",
        "        S[size] -= 1\n",
        "        earnings += x_i\n",
        "print(earnings)   "
      ],
      "metadata": {
        "id": "qCu3ChHND04b"
      },
      "execution_count": null,
      "outputs": []
    }
  ]
}